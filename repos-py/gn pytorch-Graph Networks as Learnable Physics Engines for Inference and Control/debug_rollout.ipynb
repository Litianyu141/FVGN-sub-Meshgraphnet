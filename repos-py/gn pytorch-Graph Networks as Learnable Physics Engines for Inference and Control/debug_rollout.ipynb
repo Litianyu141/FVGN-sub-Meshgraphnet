{
 "cells": [
  {
   "cell_type": "code",
   "execution_count": 2,
   "metadata": {
    "collapsed": true
   },
   "outputs": [],
   "source": [
    "import torch.utils.data as data\n",
    "from torch.utils.data import DataLoader\n",
    "import numpy as np\n",
    "import networkx as nx\n",
    "import torch.optim as optim\n",
    "import matplotlib.pyplot as plt\n",
    "from gn_models import init_graph_features, FFGN\n",
    "import torch\n",
    "from tensorboardX import SummaryWriter\n",
    "from datetime import datetime\n",
    "import os\n",
    "import sys\n",
    "from scipy.stats import pearsonr\n",
    "from train_gn import SwimmerDataset\n",
    "from PIL import Image\n",
    "import imageio\n",
    "from utils import *\n",
    "import argparse\n",
    "%matplotlib inline"
   ]
  },
  {
   "cell_type": "code",
   "execution_count": 3,
   "metadata": {
    "collapsed": true
   },
   "outputs": [],
   "source": [
    "def evaluate_graph_loss(G, state, last_state):\n",
    "    n_nodes = len(G)\n",
    "\n",
    "    dpos = state[:, 5:5 + 18].view(-1, 6, 3)\n",
    "    dvel = state[:, 5+18:5 + 18+18].view(-1, 6, 3)\n",
    "\n",
    "    last_pos = last_state[:, 5:5 + 18].view(-1, 6, 3)\n",
    "    vel = state[:, 5 + 18:5 + 36].view(-1, 6, 3)\n",
    "    mean = 0\n",
    "\n",
    "    true = []\n",
    "    pred = []\n",
    "\n",
    "    for node in G.nodes():\n",
    "        #print(node)\n",
    "        #loss += torch.mean((G.nodes[node]['feat'][:,:3] - pos[:,node]) ** 2)\n",
    "        #loss += torch.mean((G.nodes[node]['feat'][:, 3:] - vel[:, node]) ** 2)\n",
    "        mean += torch.mean(torch.abs((G.nodes[node]['feat'][:,:3] - dpos[:,node]) / dpos[:,node] ))\n",
    "        pred.append(G.nodes[node]['feat'][:,:3])\n",
    "        true.append(dpos[:,node])\n",
    "        \n",
    "        pred.append(G.nodes[node]['feat'][:,3:])\n",
    "        true.append(dvel[:,node])\n",
    "        \n",
    "        \n",
    "\n",
    "    pred = torch.stack(pred).view(-1,1)\n",
    "    true = torch.stack(true).view(-1,1)\n",
    "\n",
    "    plt.figure()\n",
    "    for node in G.nodes():\n",
    "        pos = last_pos[0, node, :3].cpu().data.numpy()\n",
    "\n",
    "        angle = pos[2]\n",
    "        x = pos[0]\n",
    "        y = pos[1]\n",
    "        r = 0.05\n",
    "        dy = np.cos(angle) * r\n",
    "        dx = - np.sin(angle) * r\n",
    "        # plt.figure()\n",
    "        plt.plot([x - dx, x + dx], [y - dy, y + dy], 'g', alpha = 0.5)\n",
    "\n",
    "        pos = G.nodes[node]['feat'][0,:3].cpu().data.numpy() + last_pos[0,node,:3].cpu().data.numpy()\n",
    "        angle = pos[2]\n",
    "        x = pos[0]\n",
    "        y = pos[1]\n",
    "        r = 0.05\n",
    "        dy = np.cos(angle) * r\n",
    "        dx = - np.sin(angle) * r\n",
    "        # plt.figure()\n",
    "        plt.plot([x - dx, x + dx], [y - dy, y + dy],'r', alpha = 0.5)\n",
    "        pos = dpos[0,node].cpu().data.numpy() + last_pos[0, node, :3].cpu().data.numpy()\n",
    "\n",
    "        angle = pos[2]\n",
    "        x = pos[0]\n",
    "        y = pos[1]\n",
    "        r = 0.05\n",
    "        dy = np.cos(angle) * r\n",
    "        dx = - np.sin(angle) * r\n",
    "        # plt.figure()\n",
    "        plt.plot([x - dx, x + dx], [y - dy, y + dy],'b', alpha = 0.5)\n",
    "    plt.axis('equal')\n",
    "    #plt.show()\n",
    "\n",
    "    mean /= n_nodes\n",
    "\n",
    "    return mean.data.item(), true, pred"
   ]
  },
  {
   "cell_type": "code",
   "execution_count": 4,
   "metadata": {
    "collapsed": true
   },
   "outputs": [],
   "source": [
    "def get_graph_features(G, bs = 1):\n",
    "    state = torch.zeros((bs, 41)).cuda()\n",
    "    \n",
    "    #joints = state[:,:5]\n",
    "    pos = torch.zeros((bs, 6, 3)).cuda()\n",
    "    vel = torch.zeros((bs, 6, 3)).cuda()\n",
    "    \n",
    "    # only get node features\n",
    "    for node in G.nodes():\n",
    "        #print(node)\n",
    "        pos[:,node] = G.nodes[node]['feat'][:,:3]\n",
    "        vel[:, node] = G.nodes[node]['feat'][:, 3:]\n",
    "\n",
    "        \n",
    "    state[:, 5:5+18] = pos.view(-1, 18)\n",
    "    state[:, 5+18:5+36] = pos.view(-1,18)\n",
    "    return state\n"
   ]
  },
  {
   "cell_type": "code",
   "execution_count": 15,
   "metadata": {
    "collapsed": true
   },
   "outputs": [],
   "source": [
    "model_fn = '/home/fei/Development/physics_predmodel/gn/logs/runs/October02_21:49:40/model_1130000.pth'\n",
    "dset = SwimmerDataset('swimmer_test.npy')\n",
    "use_cuda = True\n",
    "dl = DataLoader(dset, batch_size=200, num_workers=0, drop_last=True)\n",
    "node_feat_size = 6\n",
    "edge_feat_size = 3\n",
    "graph_feat_size = 10\n",
    "gn = FFGN(graph_feat_size, node_feat_size, edge_feat_size).cuda()\n",
    "gn.load_state_dict(torch.load(model_fn))\n",
    "\n",
    "normalizers = torch.load('normalize.pth')\n",
    "in_normalizer = normalizers['in_normalizer']\n",
    "out_normalizer = normalizers['out_normalizer']"
   ]
  },
  {
   "cell_type": "code",
   "execution_count": 16,
   "metadata": {
    "collapsed": true
   },
   "outputs": [],
   "source": [
    "G1 = nx.path_graph(6).to_directed()"
   ]
  },
  {
   "cell_type": "code",
   "execution_count": 17,
   "metadata": {
    "collapsed": true
   },
   "outputs": [],
   "source": [
    "dl_e = enumerate(dl)"
   ]
  },
  {
   "cell_type": "code",
   "execution_count": 27,
   "metadata": {
    "collapsed": true
   },
   "outputs": [],
   "source": [
    "idx = 15\n",
    "data = dset.__get_episode__(idx)\n",
    "data = [torch.from_numpy(item) for item in data]"
   ]
  },
  {
   "cell_type": "code",
   "execution_count": 28,
   "metadata": {},
   "outputs": [
    {
     "data": {
      "image/png": "[encoded data removed]",
      "text/plain": [
       "<Figure size 432x288 with 1 Axes>"
      ]
     },
     "metadata": {},
     "output_type": "display_data"
    },
    {
     "data": {
      "image/png": "[encoded data removed]",
      "text/plain": [
       "<Figure size 432x288 with 1 Axes>"
      ]
     },
     "metadata": {},
     "output_type": "display_data"
    }
   ],
   "source": [
    "action, delta_state, last_state = data\n",
    "action, delta_state, last_state = action.float(), delta_state.float(), last_state.float()\n",
    "\n",
    "if use_cuda:\n",
    "    action, delta_state, last_state = action.cuda(), delta_state.cuda(), last_state.cuda()\n",
    "\n",
    "\n",
    "init_graph_features(G1, graph_feat_size, node_feat_size, edge_feat_size, cuda=True, bs = 100)\n",
    "load_graph_features(G1, action, last_state, None,bs=100, noise = 0)\n",
    "G_out = gn(in_normalizer.normalize(G1))\n",
    "G_out = out_normalizer.inormalize(G_out)\n",
    "loss, true, pred = evaluate_graph_loss(G_out, delta_state, last_state)\n",
    "\n",
    "true = true.data.cpu().numpy()\n",
    "pred = pred.data.cpu().numpy()\n",
    "plt.legend(['prev','gt', 'pred'])\n",
    "plt.savefig('vis_{}.pdf'.format(idx))\n",
    "plt.figure()\n",
    "plt.scatter(true, pred, s = 2, alpha = 0.7)\n",
    "plt.xlabel('gt delta state')\n",
    "plt.ylabel('pred delta state')\n",
    "plt.savefig('corr_{}.pdf'.format(idx))\n",
    "\n"
   ]
  },
  {
   "cell_type": "code",
   "execution_count": 30,
   "metadata": {
    "collapsed": true
   },
   "outputs": [],
   "source": [
    "def fig2img ( fig ):\n",
    "    \"\"\"\n",
    "    @brief Convert a Matplotlib figure to a PIL Image in RGBA format and return it\n",
    "    @param fig a matplotlib figure\n",
    "    @return a Python Imaging Library ( PIL ) image\n",
    "    \"\"\"\n",
    "    # put the figure pixmap into a numpy array\n",
    "    buf = fig2data ( fig )\n",
    "    w, h, d = buf.shape\n",
    "    plt.close()\n",
    "    return np.array(Image.frombytes( \"RGBA\", ( w ,h ), buf.tostring( ) ) )\n",
    "\n",
    "def fig2data(fig):\n",
    "    \"\"\"\n",
    "    @brief Convert a Matplotlib figure to a 4D numpy array with RGBA channels and return it\n",
    "    @param fig a matplotlib figure\n",
    "    @return a numpy 3D array of RGBA values\n",
    "    \"\"\"\n",
    "    # draw the renderer\n",
    "    fig.canvas.draw()\n",
    "\n",
    "    # Get the RGBA buffer from the figure\n",
    "    w, h = fig.canvas.get_width_height()\n",
    "    buf = np.frombuffer(fig.canvas.tostring_argb(), dtype=np.uint8)\n",
    "    buf.shape = (w, h, 4)\n",
    "\n",
    "    # canvas.tostring_argb give pixmap in ARGB mode. Roll the ALPHA channel to have it in RGBA mode\n",
    "    buf = np.roll(buf, 3, axis=2)\n",
    "    return buf\n",
    "\n",
    "def draw_state(state):\n",
    "    state = state.cpu().data.numpy()[0]\n",
    "    positions = state[5:5+18].reshape(6,3)\n",
    " \n",
    "    fig = plt.figure()\n",
    "\n",
    "    for node in range(6):\n",
    "        pos = positions[node]\n",
    "        angle = pos[2]\n",
    "        x = pos[0]\n",
    "        y = pos[1]\n",
    "        r = 0.05\n",
    "        dy = np.cos(angle) * r\n",
    "        dx = - np.sin(angle) * r\n",
    "        plt.plot([x - dx, x + dx], [y - dy, y + dy], 'g', alpha = 0.5)\n",
    "\n",
    "        plt.axis('equal')\n",
    "        \n",
    "    \n",
    "    img = fig2img(fig)\n",
    "    plt.close()    \n",
    "    return img"
   ]
  },
  {
   "cell_type": "code",
   "execution_count": 33,
   "metadata": {},
   "outputs": [
    {
     "name": "stdout",
     "output_type": "stream",
     "text": [
      "1\n",
      "2\n",
      "3\n",
      "4\n",
      "5\n",
      "6\n",
      "7\n",
      "8\n",
      "9\n",
      "10\n",
      "11\n",
      "12\n",
      "13\n",
      "14\n",
      "15\n",
      "16\n",
      "17\n",
      "18\n",
      "19\n",
      "20\n",
      "21\n",
      "22\n",
      "23\n",
      "24\n",
      "25\n",
      "26\n",
      "27\n",
      "28\n",
      "29\n",
      "30\n",
      "31\n",
      "32\n",
      "33\n",
      "34\n",
      "35\n",
      "36\n",
      "37\n",
      "38\n",
      "39\n",
      "40\n",
      "41\n",
      "42\n",
      "43\n",
      "44\n",
      "45\n",
      "46\n",
      "47\n",
      "48\n",
      "49\n",
      "50\n",
      "51\n",
      "52\n",
      "53\n",
      "54\n",
      "55\n",
      "56\n",
      "57\n",
      "58\n",
      "59\n",
      "60\n",
      "61\n",
      "62\n",
      "63\n",
      "64\n",
      "65\n",
      "66\n",
      "67\n",
      "68\n",
      "69\n",
      "70\n",
      "71\n",
      "72\n",
      "73\n",
      "74\n",
      "75\n",
      "76\n",
      "77\n",
      "78\n",
      "79\n",
      "80\n",
      "81\n",
      "82\n",
      "83\n",
      "84\n",
      "85\n",
      "86\n",
      "87\n",
      "88\n",
      "89\n",
      "90\n",
      "91\n",
      "92\n",
      "93\n",
      "94\n",
      "95\n",
      "96\n",
      "97\n",
      "98\n",
      "99\n"
     ]
    }
   ],
   "source": [
    "errorss2 = []\n",
    "\n",
    "for episode_idx in [310]:\n",
    "    data = dset.__get_episode__(episode_idx)\n",
    "    data = [torch.from_numpy(item) for item in data]\n",
    "\n",
    "    writer = imageio.get_writer('test_pred2.mp4', fps=6)\n",
    "    action, delta_state, last_state = data\n",
    "    action, delta_state, last_state = action.float(), delta_state.float(), last_state.float()\n",
    "\n",
    "    if use_cuda:\n",
    "        action, delta_state, last_state = action.cuda(), delta_state.cuda(), last_state.cuda()\n",
    "\n",
    "    state = last_state[1].unsqueeze(0)\n",
    "    state_gt = last_state[1].unsqueeze(0).clone()\n",
    "    errors = []\n",
    "    for i in range(1, 100):\n",
    "        print(i)\n",
    "        action_i = action[i].unsqueeze(0)\n",
    "        delta_state_i = delta_state[i].unsqueeze(0)\n",
    "        last_state_i = last_state[i].unsqueeze(0)\n",
    "\n",
    "        init_graph_features(G1, graph_feat_size, node_feat_size, edge_feat_size, cuda=True, bs = 1)\n",
    "        load_graph_features(G1, action_i, state, None, bs=1, noise = 0)\n",
    "        G_out = gn(in_normalizer.normalize(G1))\n",
    "        G_out = out_normalizer.inormalize(G_out)\n",
    "\n",
    "        delta_state_pred = get_graph_features(G_out)\n",
    "\n",
    "        state_gt += delta_state_i\n",
    "        state += delta_state_pred\n",
    "        error = (state_gt - state).cpu().data.numpy()[0][5:5+18].reshape(6,3)\n",
    "        error[:,2] = error[:,2] % (np.pi*2)\n",
    "        error = np.sum(error ** 2, axis = (0,))\n",
    "        errors.append(np.copy(error))\n",
    "        img = draw_state(state_gt)\n",
    "        img_pred = draw_state(state)\n",
    "\n",
    "        writer.append_data(np.concatenate([img, img_pred], axis = 0))\n",
    "        \n",
    "        if i % 5 == 0:\n",
    "            Image.fromarray(np.concatenate([img, img_pred], axis = 0)).save(\"example_pred_3{:03d}.png\".format(i))\n",
    "        \n",
    "    writer.close()\n",
    "\n",
    "    errors = np.array(errors)\n",
    "    errorss2.append(errors)"
   ]
  },
  {
   "cell_type": "code",
   "execution_count": 65,
   "metadata": {},
   "outputs": [
    {
     "data": {
      "image/png": "[encoded data removed]",
      "text/plain": [
       "<Figure size 432x288 with 1 Axes>"
      ]
     },
     "metadata": {},
     "output_type": "display_data"
    },
    {
     "data": {
      "image/png": "[encoded data removed]",
      "text/plain": [
       "<Figure size 432x288 with 1 Axes>"
      ]
     },
     "metadata": {},
     "output_type": "display_data"
    }
   ],
   "source": [
    "plt.figure()\n",
    "plt.plot(errorss2.mean(0)[:,0] + errorss.mean(0)[:,1])\n",
    "plt.plot(errorss.mean(0)[:,0] + errorss.mean(0)[:,1])\n",
    "plt.ylabel('position error')\n",
    "plt.xlabel('frame')\n",
    "plt.legend(['simple MLP', 'FFGN'])\n",
    "plt.savefig('images/translation.png')\n",
    "\n",
    "plt.figure()\n",
    "plt.plot(np.log(errorss2.mean(0)[:,2]))\n",
    "plt.plot(np.log(errorss.mean(0)[:,2]))\n",
    "plt.ylabel('log rotation error')\n",
    "plt.xlabel('frame')\n",
    "plt.legend(['simple MLP', 'FFGN'])\n",
    "plt.savefig('images/rotation.png')\n",
    "\n"
   ]
  },
  {
   "cell_type": "code",
   "execution_count": 45,
   "metadata": {
    "collapsed": true
   },
   "outputs": [],
   "source": [
    "errorss = np.array(errorss)"
   ]
  },
  {
   "cell_type": "code",
   "execution_count": 48,
   "metadata": {},
   "outputs": [
    {
     "data": {
      "text/plain": [
       "(99, 3)"
      ]
     },
     "execution_count": 48,
     "metadata": {},
     "output_type": "execute_result"
    }
   ],
   "source": [
    "errorss.mean(0).shape"
   ]
  },
  {
   "cell_type": "code",
   "execution_count": 62,
   "metadata": {
    "collapsed": true
   },
   "outputs": [],
   "source": [
    "errorss2 = np.array(errorss2)"
   ]
  },
  {
   "cell_type": "code",
   "execution_count": null,
   "metadata": {
    "collapsed": true
   },
   "outputs": [],
   "source": []
  }
 ],
 "metadata": {
  "kernelspec": {
   "display_name": "Python (py35)",
   "language": "python",
   "name": "py35"
  },
  "language_info": {
   "codemirror_mode": {
    "name": "ipython",
    "version": 3
   },
   "file_extension": ".py",
   "mimetype": "text/x-python",
   "name": "python",
   "nbconvert_exporter": "python",
   "pygments_lexer": "ipython3",
   "version": "3.5.4"
  }
 },
 "nbformat": 4,
 "nbformat_minor": 2
}
